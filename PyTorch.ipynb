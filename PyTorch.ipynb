{
 "cells": [
  {
   "cell_type": "code",
   "execution_count": 95,
   "metadata": {},
   "outputs": [],
   "source": [
    "import numpy as np\n",
    "import pandas as pd\n",
    "import torch\n",
    "from torch import nn\n",
    "from torch import optim\n",
    "import torch.nn.functional as F\n",
    "import torchvision\n",
    "from torchvision import transforms\n",
    "import matplotlib.pyplot as plt\n",
    "from tqdm import tqdm\n",
    "from sklearn.metrics import confusion_matrix\n",
    "import seaborn as sns\n",
    "from torch.utils.tensorboard import SummaryWriter\n",
    "import itertools "
   ]
  },
  {
   "cell_type": "markdown",
   "metadata": {},
   "source": [
    "# Basic Operations \n",
    "Deep Lizard"
   ]
  },
  {
   "cell_type": "code",
   "execution_count": 2,
   "metadata": {},
   "outputs": [
    {
     "data": {
      "text/plain": [
       "tensor([[1, 2],\n",
       "        [3, 4]])"
      ]
     },
     "execution_count": 2,
     "metadata": {},
     "output_type": "execute_result"
    }
   ],
   "source": [
    "t = torch.tensor([[1,2],[3,4]])\n",
    "t"
   ]
  },
  {
   "cell_type": "code",
   "execution_count": 3,
   "metadata": {},
   "outputs": [
    {
     "data": {
      "text/plain": [
       "torch.Size([2, 2])"
      ]
     },
     "execution_count": 3,
     "metadata": {},
     "output_type": "execute_result"
    }
   ],
   "source": [
    "t.shape"
   ]
  },
  {
   "cell_type": "code",
   "execution_count": 4,
   "metadata": {},
   "outputs": [
    {
     "data": {
      "text/plain": [
       "2"
      ]
     },
     "execution_count": 4,
     "metadata": {},
     "output_type": "execute_result"
    }
   ],
   "source": [
    "rank = len(t.shape) # len of shape = Rank\n",
    "rank"
   ]
  },
  {
   "cell_type": "code",
   "execution_count": 5,
   "metadata": {},
   "outputs": [
    {
     "name": "stdout",
     "output_type": "stream",
     "text": [
      "cpu\n",
      "<class 'torch.Tensor'>\n",
      "torch.LongTensor\n",
      "torch.int64\n",
      "torch.strided\n"
     ]
    }
   ],
   "source": [
    "print(t.device)\n",
    "print(type(t))\n",
    "print(t.type())\n",
    "print(t.dtype)\n",
    "print(t.layout)"
   ]
  },
  {
   "cell_type": "markdown",
   "metadata": {},
   "source": [
    "You can change the device to CUDA if you have GPU enabled"
   ]
  },
  {
   "cell_type": "code",
   "execution_count": 6,
   "metadata": {},
   "outputs": [
    {
     "data": {
      "text/plain": [
       "device(type='cuda', index=0)"
      ]
     },
     "execution_count": 6,
     "metadata": {},
     "output_type": "execute_result"
    }
   ],
   "source": [
    "device = torch.device('cuda:0')\n",
    "device"
   ]
  },
  {
   "cell_type": "markdown",
   "metadata": {},
   "source": [
    "## Operations on Tensors are done IFF they are on same device only and IFF they have same dType (version > 1.3.0 can perform operations on float and int)"
   ]
  },
  {
   "cell_type": "code",
   "execution_count": 7,
   "metadata": {},
   "outputs": [],
   "source": [
    "t1 = torch.tensor([[1,2],[2,3]])\n",
    "t2 = torch.tensor([[1.1,2.2],[2.2,3.3]])\n",
    "# t3 = t1.cuda() # No CUDA Present"
   ]
  },
  {
   "cell_type": "code",
   "execution_count": 8,
   "metadata": {},
   "outputs": [
    {
     "name": "stdout",
     "output_type": "stream",
     "text": [
      "torch.int64\n",
      "torch.float32\n"
     ]
    }
   ],
   "source": [
    "print(t1.dtype)\n",
    "print(t2.dtype)"
   ]
  },
  {
   "cell_type": "code",
   "execution_count": 9,
   "metadata": {},
   "outputs": [
    {
     "data": {
      "text/plain": [
       "tensor([[2.1000, 4.2000],\n",
       "        [4.2000, 6.3000]])"
      ]
     },
     "execution_count": 9,
     "metadata": {},
     "output_type": "execute_result"
    }
   ],
   "source": [
    "t1+t2"
   ]
  },
  {
   "cell_type": "markdown",
   "metadata": {},
   "source": [
    "## Create tensors from array or `data` and their differences"
   ]
  },
  {
   "cell_type": "code",
   "execution_count": 10,
   "metadata": {},
   "outputs": [
    {
     "data": {
      "text/plain": [
       "numpy.ndarray"
      ]
     },
     "execution_count": 10,
     "metadata": {},
     "output_type": "execute_result"
    }
   ],
   "source": [
    "data = np.array([1,2,3])\n",
    "type(data)"
   ]
  },
  {
   "cell_type": "code",
   "execution_count": 11,
   "metadata": {},
   "outputs": [
    {
     "name": "stdout",
     "output_type": "stream",
     "text": [
      "tensor([1., 2., 3.])\n",
      "<class 'torch.Tensor'>\n",
      "torch.FloatTensor\n",
      "torch.float32\n"
     ]
    }
   ],
   "source": [
    "t1 = torch.Tensor(data)  # Constructor\n",
    "# equivalent to t = torch.tensor(data,dtype=torch.float32)\n",
    "\n",
    "\n",
    "print(t1)\n",
    "print(type(t1))\n",
    "print(t1.type())\n",
    "print(t1.dtype)\n"
   ]
  },
  {
   "cell_type": "code",
   "execution_count": 12,
   "metadata": {},
   "outputs": [
    {
     "name": "stdout",
     "output_type": "stream",
     "text": [
      "tensor([1, 2, 3])\n",
      "<class 'torch.Tensor'>\n",
      "torch.LongTensor\n",
      "torch.int64\n"
     ]
    }
   ],
   "source": [
    "t2 = torch.tensor(data) # Factory Function \n",
    "#  equivalent to t = torch.tensor(data,dtype=torch.int64)\n",
    "\n",
    "\n",
    "print(t2)\n",
    "print(type(t2))\n",
    "print(t2.type())\n",
    "print(t2.dtype)"
   ]
  },
  {
   "cell_type": "code",
   "execution_count": 13,
   "metadata": {},
   "outputs": [
    {
     "name": "stdout",
     "output_type": "stream",
     "text": [
      "tensor([1, 2, 3])\n",
      "<class 'torch.Tensor'>\n",
      "torch.LongTensor\n",
      "torch.int64\n"
     ]
    }
   ],
   "source": [
    "t3 = torch.from_numpy(data) # Factory Function\n",
    "\n",
    "print(t3)\n",
    "print(type(t3))\n",
    "print(t3.type())\n",
    "print(t3.dtype)\n"
   ]
  },
  {
   "cell_type": "code",
   "execution_count": 14,
   "metadata": {},
   "outputs": [
    {
     "name": "stdout",
     "output_type": "stream",
     "text": [
      "tensor([1, 2, 3])\n",
      "<class 'torch.Tensor'>\n",
      "torch.LongTensor\n",
      "torch.int64\n"
     ]
    }
   ],
   "source": [
    "t4 = torch.as_tensor(data) # Factory Function\n",
    "\n",
    "print(t4)\n",
    "print(type(t4))\n",
    "print(t4.type())\n",
    "print(t4.dtype)\n"
   ]
  },
  {
   "cell_type": "markdown",
   "metadata": {},
   "source": [
    "### Modify values of `data` now"
   ]
  },
  {
   "cell_type": "code",
   "execution_count": 15,
   "metadata": {},
   "outputs": [],
   "source": [
    "data[0] = 5\n",
    "data[2] = 7"
   ]
  },
  {
   "cell_type": "code",
   "execution_count": 16,
   "metadata": {},
   "outputs": [
    {
     "name": "stdout",
     "output_type": "stream",
     "text": [
      "tensor([1., 2., 3.])\n",
      "tensor([1, 2, 3])\n",
      "tensor([5, 2, 7])\n",
      "tensor([5, 2, 7])\n"
     ]
    }
   ],
   "source": [
    "print(t1)\n",
    "print(t2)\n",
    "print(t3)\n",
    "print(t4)"
   ]
  },
  {
   "cell_type": "markdown",
   "metadata": {},
   "source": [
    "SEE the DIFFERENCE? First 2 use `COPY` of data. Last 2 `SHARE` the same instances"
   ]
  },
  {
   "cell_type": "markdown",
   "metadata": {},
   "source": [
    "### Reshaping, stacking, Flattening"
   ]
  },
  {
   "cell_type": "code",
   "execution_count": 17,
   "metadata": {},
   "outputs": [
    {
     "data": {
      "text/plain": [
       "tensor([[1, 1, 1, 1, 1, 1, 1, 1, 1, 1, 1, 1, 1, 1, 1, 1],\n",
       "        [2, 2, 2, 2, 2, 2, 2, 2, 2, 2, 2, 2, 2, 2, 2, 2],\n",
       "        [3, 3, 3, 3, 3, 3, 3, 3, 3, 3, 3, 3, 3, 3, 3, 3]])"
      ]
     },
     "execution_count": 17,
     "metadata": {},
     "output_type": "execute_result"
    }
   ],
   "source": [
    "# each value represents a pixel of 4*4 image\n",
    "one = torch.tensor([1,1,1,1,1,1,1,1,1,1,1,1,1,1,1,1]).reshape(4,4)  # converts into a 4*4 matrix\n",
    "two = torch.tensor([2,2,2,2,2,2,2,2,2,2,2,2,2,2,2,2]).reshape(4,4)\n",
    "three = torch.tensor([3,3,3,3,3,3,3,3,3,3,3,3,3,3,3,3]).reshape(4,4) \n",
    "stacked = torch.stack((one,two,three)) # make a batch of 3 images so shape is (3,4,4)\n",
    "stacked_reshaped = stacked.reshape((3,1,4,4)) # batch, color channels, height, width\n",
    "stacked_reshaped_flattened = stacked_reshaped.flatten(start_dim=1) \n",
    "# leave te batch but flatten all the pixels\n",
    "stacked_reshaped_flattened"
   ]
  },
  {
   "cell_type": "code",
   "execution_count": 18,
   "metadata": {},
   "outputs": [
    {
     "data": {
      "text/plain": [
       "tensor([[1, 1, 1, 1, 1, 1, 1, 1, 1, 1, 1, 1, 1, 1, 1, 1],\n",
       "        [2, 2, 2, 2, 2, 2, 2, 2, 2, 2, 2, 2, 2, 2, 2, 2],\n",
       "        [3, 3, 3, 3, 3, 3, 3, 3, 3, 3, 3, 3, 3, 3, 3, 3]])"
      ]
     },
     "execution_count": 18,
     "metadata": {},
     "output_type": "execute_result"
    }
   ],
   "source": [
    "another_method = stacked_reshaped.reshape((3,16)) # Flatten each image\n",
    "another_method"
   ]
  },
  {
   "cell_type": "markdown",
   "metadata": {},
   "source": [
    "### Tensor broadcasting\n",
    "Tensor works only and only on  `Element vise` operations"
   ]
  },
  {
   "cell_type": "code",
   "execution_count": 19,
   "metadata": {},
   "outputs": [
    {
     "name": "stdout",
     "output_type": "stream",
     "text": [
      "tensor([3., 6., 9.])\n",
      "tensor([3., 6., 9.])\n"
     ]
    }
   ],
   "source": [
    "print(t1*(3))\n",
    "print(t1.mul(3))\n",
    "# it is not scaler multiplication but the scaler is broadcasted"
   ]
  },
  {
   "cell_type": "code",
   "execution_count": 20,
   "metadata": {},
   "outputs": [
    {
     "data": {
      "text/plain": [
       "tensor([False,  True, False])"
      ]
     },
     "execution_count": 20,
     "metadata": {},
     "output_type": "execute_result"
    }
   ],
   "source": [
    "# To get the idea, it is like copying a scaler to same dimension and then checking every element\n",
    "# of one tensor to every element of second on the same index\n",
    "t1%2 == 0 "
   ]
  },
  {
   "cell_type": "code",
   "execution_count": 21,
   "metadata": {},
   "outputs": [
    {
     "name": "stdout",
     "output_type": "stream",
     "text": [
      "Broadcasted tensor: tensor([3, 3, 3])\n",
      "tensor([3., 6., 9.])\n",
      "tensor([3., 6., 9.])\n"
     ]
    }
   ],
   "source": [
    "# It is just like making an tensor of same shape as of given tensor but with all the scaler values\n",
    "broadcasted_3 = torch.from_numpy(np.broadcast_to(3,t1.shape))\n",
    "print(f'Broadcasted tensor: {broadcasted_3}')\n",
    "print(t1*broadcasted_3)\n",
    "print(t1.mul(broadcasted_3))"
   ]
  },
  {
   "cell_type": "markdown",
   "metadata": {},
   "source": [
    "# Torchvision Datasets"
   ]
  },
  {
   "cell_type": "code",
   "execution_count": 22,
   "metadata": {},
   "outputs": [],
   "source": [
    "train_set = torchvision.datasets.FashionMNIST(download=True,root='./Data/FashionMNIST',\n",
    "                                              transform=transforms.Compose([transforms.ToTensor()]))\n",
    "\n",
    "train_loader = torch.utils.data.DataLoader(train_set,batch_size=32)"
   ]
  },
  {
   "cell_type": "code",
   "execution_count": 23,
   "metadata": {},
   "outputs": [
    {
     "data": {
      "text/plain": [
       "60000"
      ]
     },
     "execution_count": 23,
     "metadata": {},
     "output_type": "execute_result"
    }
   ],
   "source": [
    "len(train_set.targets)"
   ]
  },
  {
   "cell_type": "code",
   "execution_count": 24,
   "metadata": {},
   "outputs": [
    {
     "data": {
      "text/plain": [
       "tensor([6000, 6000, 6000, 6000, 6000, 6000, 6000, 6000, 6000, 6000])"
      ]
     },
     "execution_count": 24,
     "metadata": {},
     "output_type": "execute_result"
    }
   ],
   "source": [
    "train_set.targets.bincount()"
   ]
  },
  {
   "cell_type": "code",
   "execution_count": 25,
   "metadata": {},
   "outputs": [
    {
     "name": "stdout",
     "output_type": "stream",
     "text": [
      "<class 'tuple'>\n",
      "2\n",
      "torch.Size([1, 28, 28])\n"
     ]
    }
   ],
   "source": [
    "sample = next(iter(train_set))\n",
    "print(type(sample))\n",
    "print(len(sample))\n",
    "# first entry sample[0] are the pixels and second is the label\n",
    "pixels,label = sample\n",
    "print(pixels.shape)"
   ]
  },
  {
   "cell_type": "code",
   "execution_count": 26,
   "metadata": {},
   "outputs": [
    {
     "data": {
      "text/plain": [
       "<matplotlib.image.AxesImage at 0x7fb69ac7e690>"
      ]
     },
     "execution_count": 26,
     "metadata": {},
     "output_type": "execute_result"
    },
    {
     "data": {
      "image/png": "[encoded data removed]",
      "text/plain": [
       "<Figure size 432x288 with 1 Axes>"
      ]
     },
     "metadata": {
      "needs_background": "light"
     },
     "output_type": "display_data"
    }
   ],
   "source": [
    "plt.imshow(pixels.reshape(28,28),cmap='gray')\n",
    "# plt.imshow(pixels.squeeze())"
   ]
  },
  {
   "cell_type": "code",
   "execution_count": 27,
   "metadata": {},
   "outputs": [
    {
     "name": "stdout",
     "output_type": "stream",
     "text": [
      "2\n",
      "<class 'list'>\n"
     ]
    }
   ],
   "source": [
    "batch = next(iter(train_loader))\n",
    "print(len(batch))\n",
    "print(type(batch))"
   ]
  },
  {
   "cell_type": "code",
   "execution_count": 28,
   "metadata": {},
   "outputs": [
    {
     "name": "stdout",
     "output_type": "stream",
     "text": [
      "32 32\n",
      "<class 'torch.Tensor'>\n",
      "torch.Size([32, 1, 28, 28])\n"
     ]
    }
   ],
   "source": [
    "images,labels = batch\n",
    "print(len(images),len(labels))\n",
    "print(type(images))\n",
    "print(images.shape)"
   ]
  },
  {
   "cell_type": "code",
   "execution_count": 29,
   "metadata": {},
   "outputs": [
    {
     "name": "stdout",
     "output_type": "stream",
     "text": [
      "tensor([9, 0, 0, 3, 0, 2, 7, 2, 5, 5, 0, 9, 5, 5, 7, 9, 1, 0, 6, 4, 3, 1, 4, 8,\n",
      "        4, 3, 0, 2, 4, 4, 5, 3])\n"
     ]
    },
    {
     "data": {
      "image/png": "[encoded data removed]",
      "text/plain": [
       "<Figure size 1080x864 with 1 Axes>"
      ]
     },
     "metadata": {
      "needs_background": "light"
     },
     "output_type": "display_data"
    }
   ],
   "source": [
    "grid = torchvision.utils.make_grid(images,nrow=10) #nrow is number of elements in a single row\n",
    "plt.figure(figsize=(15,12))\n",
    "plt.imshow(np.transpose(grid,(1,2,0))) # transpose to (h,w,c) instead of (c,h,w)\n",
    "print(labels)"
   ]
  },
  {
   "cell_type": "markdown",
   "metadata": {},
   "source": [
    "# CNN Architecture"
   ]
  },
  {
   "cell_type": "code",
   "execution_count": 30,
   "metadata": {},
   "outputs": [],
   "source": [
    "class Network(nn.Module):\n",
    "    def __init__(self):\n",
    "        super(Network,self).__init__()\n",
    "        self.conv_1 = nn.Conv2d(in_channels=1,out_channels=6,kernel_size=(5,5),bias=True)\n",
    "        # for single grayscale image use 6 different kernls of size (5,5) to produce 6 diff feature maps \n",
    "        \n",
    "        self.conv_2 = nn.Conv2d(in_channels=6,out_channels=12,kernel_size=(3,3))\n",
    "        # 6 already feat maps, use 12 different kernal filters of size (3,3) to get TOTAL of 12 new feat\n",
    "        \n",
    "        self.dense_1 = nn.Linear(in_features=12*4*4,out_features=128) # WHYY (12*4*4)\n",
    "        # Flatten the output of conv_2d in 12*4*4\n",
    "        \n",
    "        self.fc_2 = nn.Linear(in_features=128,out_features=64)\n",
    "        # Fully Connected = fc_2 = Dense Layer = dense_2\n",
    "        \n",
    "        self.out = nn.Linear(in_features=64,out_features=10)\n",
    "        # output layer. Output number of neurons = num of classes for classification & 1 for regression\n",
    "        \n",
    "    \n",
    "    def forward(self,t):\n",
    "        '''\n",
    "        implement a forward pass on a Tensor 't' of rank 'R'\n",
    "        '''\n",
    "        # input  layer 1 though it is nevr needed\n",
    "        t = t\n",
    "        \n",
    "        # second layer. Layer is a mix of functions that has weights \n",
    "        t = self.conv_1(t) # works by calling __call__() method inside class\n",
    "        t = F.relu(input=t,) # it is not a leyer but Function as layers have weights\n",
    "        t = F.max_pool2d(t,kernel_size=(3,3),stride=2) # max pool\n",
    "        \n",
    "        # third layer\n",
    "        t = self.conv_2(t) # works by calling __call__() method inside class\n",
    "        t = F.relu(input=t,) # it is not a leyer but Function as layers have weights\n",
    "        t = F.max_pool2d(t,kernel_size=(3,3),stride=2) # max pool\n",
    "        \n",
    "        # fourth layer\n",
    "        t = t.reshape(-1,12*4*4) \n",
    "        # due to Conv and pooling operations, our image has been reduced from (1,28,28) to (4,4)\n",
    "        # use ((input_size - filter_size + 2*padding)/stride )+1  for each  cov and max_pool \n",
    "        # it assumes input and kernel size are square\n",
    "        t = self.dense_1(t)\n",
    "        t = F.relu(t)\n",
    "        \n",
    "        # Fifth layer\n",
    "        t = self.fc_2(t)\n",
    "        t = F.relu(t)\n",
    "        \n",
    "        # output\n",
    "        t = self.out(t)\n",
    "        # t = F.softmax(t,dim=1)\n",
    "        # commented because loss function used will be cross_entropy which has softmax behind the scenes\n",
    "        \n",
    "        \n",
    "        return t"
   ]
  },
  {
   "cell_type": "code",
   "execution_count": 31,
   "metadata": {},
   "outputs": [
    {
     "data": {
      "text/plain": [
       "<torch.autograd.grad_mode.set_grad_enabled at 0x7fb699fdc6d0>"
      ]
     },
     "execution_count": 31,
     "metadata": {},
     "output_type": "execute_result"
    }
   ],
   "source": [
    "torch.set_grad_enabled(False) # stop making computational graphs"
   ]
  },
  {
   "cell_type": "markdown",
   "metadata": {},
   "source": [
    "# Tensorboard\n",
    "use `tensorboard --logdir=runs` using shell in the same diectory"
   ]
  },
  {
   "cell_type": "code",
   "execution_count": 32,
   "metadata": {},
   "outputs": [],
   "source": [
    "tb = SummaryWriter()\n",
    "\n",
    "network = Network() # instantiate object of Nwtwork\n",
    "\n",
    "batch = next(iter(train_loader))\n",
    "images,labels = batch\n",
    "\n",
    "grid = torchvision.utils.make_grid(images,nrow=15)\n",
    "\n",
    "tb.add_image('image_grid',grid)\n",
    "tb.add_graph(network,images)\n",
    "\n",
    "tb.close()"
   ]
  },
  {
   "cell_type": "markdown",
   "metadata": {},
   "source": [
    "### Input should be always `(BATCH,CHANNELS,HEIGHT,WIDTH)` for Convolution Networks"
   ]
  },
  {
   "cell_type": "code",
   "execution_count": 33,
   "metadata": {},
   "outputs": [
    {
     "data": {
      "text/plain": [
       "torch.Size([1, 28, 28])"
      ]
     },
     "execution_count": 33,
     "metadata": {},
     "output_type": "execute_result"
    }
   ],
   "source": [
    "sample = next(iter(train_set))\n",
    "image, label = sample\n",
    "image.shape # add a new index to the the image to convert it into a batch of 1"
   ]
  },
  {
   "cell_type": "code",
   "execution_count": 34,
   "metadata": {},
   "outputs": [
    {
     "name": "stdout",
     "output_type": "stream",
     "text": [
      "torch.Size([1, 1, 28, 28])\n",
      "torch.Size([1, 1, 28, 28])\n"
     ]
    }
   ],
   "source": [
    "batch_image = image.reshape((1,1,28,28))\n",
    "print(batch_image.shape)\n",
    "\n",
    "# or by using \n",
    "\n",
    "batch_image = image.unsqueeze(dim=0)\n",
    "print(batch_image.shape)"
   ]
  },
  {
   "cell_type": "code",
   "execution_count": 35,
   "metadata": {},
   "outputs": [
    {
     "data": {
      "text/plain": [
       "tensor([[ 0.0080, -0.0163,  0.0770, -0.0583,  0.0164,  0.0294, -0.1363,  0.1910,\n",
       "         -0.0885, -0.0936]])"
      ]
     },
     "execution_count": 35,
     "metadata": {},
     "output_type": "execute_result"
    }
   ],
   "source": [
    "y_pred = network(batch_image) \n",
    "y_pred # y_pred is NOT the  probabilities for each label. These are final output Tensor because\n",
    "# we have not used softmax"
   ]
  },
  {
   "cell_type": "code",
   "execution_count": 36,
   "metadata": {},
   "outputs": [
    {
     "data": {
      "text/plain": [
       "tensor([[0.1011, 0.0987, 0.1083, 0.0946, 0.1020, 0.1033, 0.0875, 0.1214, 0.0918,\n",
       "         0.0913]])"
      ]
     },
     "execution_count": 36,
     "metadata": {},
     "output_type": "execute_result"
    }
   ],
   "source": [
    "F.softmax(y_pred,dim=1) # these are the probabilities for each class"
   ]
  },
  {
   "cell_type": "code",
   "execution_count": 37,
   "metadata": {},
   "outputs": [
    {
     "data": {
      "text/plain": [
       "torch.Size([1, 10])"
      ]
     },
     "execution_count": 37,
     "metadata": {},
     "output_type": "execute_result"
    }
   ],
   "source": [
    "y_pred.shape # shape is (1,10) means 1 image and 10 predictions"
   ]
  },
  {
   "cell_type": "code",
   "execution_count": 38,
   "metadata": {},
   "outputs": [
    {
     "data": {
      "text/plain": [
       "tensor([7])"
      ]
     },
     "execution_count": 38,
     "metadata": {},
     "output_type": "execute_result"
    }
   ],
   "source": [
    "y_pred.argmax(dim=1) # get the index where value is maximum"
   ]
  },
  {
   "cell_type": "markdown",
   "metadata": {},
   "source": [
    "# Load Batch"
   ]
  },
  {
   "cell_type": "code",
   "execution_count": 39,
   "metadata": {},
   "outputs": [
    {
     "data": {
      "text/plain": [
       "<torch.autograd.grad_mode.set_grad_enabled at 0x7fb67ca41a10>"
      ]
     },
     "execution_count": 39,
     "metadata": {},
     "output_type": "execute_result"
    }
   ],
   "source": [
    "torch.set_grad_enabled(True) # True by default but as we had turned it off so turning it on"
   ]
  },
  {
   "cell_type": "code",
   "execution_count": 40,
   "metadata": {},
   "outputs": [],
   "source": [
    "train_set = torchvision.datasets.FashionMNIST(download=True,root='./Data/FashionMNIST',\n",
    "                                              transform=transforms.Compose([transforms.ToTensor()]))\n",
    "\n",
    "train_loader = torch.utils.data.DataLoader(train_set,batch_size=32) "
   ]
  },
  {
   "cell_type": "code",
   "execution_count": 41,
   "metadata": {},
   "outputs": [],
   "source": [
    "batch = next(iter(train_loader)) # make a new batch from DataLoader\n",
    "images,labels = batch # get images and labels from batch"
   ]
  },
  {
   "cell_type": "code",
   "execution_count": 42,
   "metadata": {},
   "outputs": [
    {
     "name": "stdout",
     "output_type": "stream",
     "text": [
      "32\n",
      "torch.Size([32, 1, 28, 28])\n"
     ]
    }
   ],
   "source": [
    "print(len(labels)) # 32 labels for 32 images\n",
    "print(images.shape) # 32 grayscale images of size (28,28)"
   ]
  },
  {
   "cell_type": "code",
   "execution_count": 43,
   "metadata": {},
   "outputs": [
    {
     "data": {
      "text/plain": [
       "torch.Size([32, 10])"
      ]
     },
     "execution_count": 43,
     "metadata": {},
     "output_type": "execute_result"
    }
   ],
   "source": [
    "network = Network() # weights are random everytime you initialize\n",
    "pred = network(images)\n",
    "pred.shape # 10 labels for each of 32 images"
   ]
  },
  {
   "cell_type": "code",
   "execution_count": 44,
   "metadata": {},
   "outputs": [
    {
     "data": {
      "text/plain": [
       "tensor([8, 8, 8, 8, 8, 8, 8, 8, 8, 8, 8, 8, 8, 8, 8, 8, 8, 8, 8, 8, 8, 8, 8, 8,\n",
       "        8, 8, 8, 8, 8, 8, 8, 8])"
      ]
     },
     "execution_count": 44,
     "metadata": {},
     "output_type": "execute_result"
    }
   ],
   "source": [
    "pred.argmax(dim=1)"
   ]
  },
  {
   "cell_type": "code",
   "execution_count": 45,
   "metadata": {},
   "outputs": [
    {
     "data": {
      "text/plain": [
       "tensor([9, 0, 0, 3, 0, 2, 7, 2, 5, 5, 0, 9, 5, 5, 7, 9, 1, 0, 6, 4, 3, 1, 4, 8,\n",
       "        4, 3, 0, 2, 4, 4, 5, 3])"
      ]
     },
     "execution_count": 45,
     "metadata": {},
     "output_type": "execute_result"
    }
   ],
   "source": [
    "labels"
   ]
  },
  {
   "cell_type": "code",
   "execution_count": 46,
   "metadata": {},
   "outputs": [
    {
     "data": {
      "text/plain": [
       "tensor([False, False, False, False, False, False, False, False, False, False,\n",
       "        False, False, False, False, False, False, False, False, False, False,\n",
       "        False, False, False,  True, False, False, False, False, False, False,\n",
       "        False, False])"
      ]
     },
     "execution_count": 46,
     "metadata": {},
     "output_type": "execute_result"
    }
   ],
   "source": [
    "pred.argmax(dim=1).eq(labels) # element wise operation. Return True if equal else return False"
   ]
  },
  {
   "cell_type": "code",
   "execution_count": 47,
   "metadata": {},
   "outputs": [],
   "source": [
    "def get_correct_pred(pred,labels,percent=False):\n",
    "    num = pred.argmax(dim=1).eq(labels).sum().item()\n",
    "    if percent:\n",
    "        return (num/len(labels))*100 # 4 out of 32 correct predictions\n",
    "    else:\n",
    "        return num"
   ]
  },
  {
   "cell_type": "code",
   "execution_count": 48,
   "metadata": {},
   "outputs": [
    {
     "name": "stdout",
     "output_type": "stream",
     "text": [
      "3.125% of labels have been predicted correctly\n"
     ]
    }
   ],
   "source": [
    "print(f'{get_correct_pred(pred,labels,True)}% of labels have been predicted correctly')"
   ]
  },
  {
   "cell_type": "markdown",
   "metadata": {},
   "source": [
    "# Calculating Loss and Gradients"
   ]
  },
  {
   "cell_type": "code",
   "execution_count": 49,
   "metadata": {},
   "outputs": [
    {
     "data": {
      "text/plain": [
       "2.3117518424987793"
      ]
     },
     "execution_count": 49,
     "metadata": {},
     "output_type": "execute_result"
    }
   ],
   "source": [
    "loss = F.cross_entropy(pred,labels)\n",
    "loss.item() # this is our loss function"
   ]
  },
  {
   "cell_type": "code",
   "execution_count": 50,
   "metadata": {},
   "outputs": [
    {
     "name": "stdout",
     "output_type": "stream",
     "text": [
      "None\n"
     ]
    }
   ],
   "source": [
    "print(network.conv_1.weight.grad) # No Gradients on the First Pass"
   ]
  },
  {
   "cell_type": "code",
   "execution_count": 51,
   "metadata": {},
   "outputs": [],
   "source": [
    "loss.backward() # works only if set_grad_anable(True)"
   ]
  },
  {
   "cell_type": "code",
   "execution_count": 52,
   "metadata": {},
   "outputs": [
    {
     "name": "stdout",
     "output_type": "stream",
     "text": [
      "torch.Size([6, 1, 5, 5])\n"
     ]
    }
   ],
   "source": [
    "print(network.conv_1.weight.grad.shape) # Updated Gradients"
   ]
  },
  {
   "cell_type": "code",
   "execution_count": 53,
   "metadata": {},
   "outputs": [
    {
     "name": "stdout",
     "output_type": "stream",
     "text": [
      "torch.Size([12, 6, 3, 3])\n"
     ]
    }
   ],
   "source": [
    "print(network.conv_2.weight.grad.shape)"
   ]
  },
  {
   "cell_type": "markdown",
   "metadata": {},
   "source": [
    "# Updating Weights using Gradients"
   ]
  },
  {
   "cell_type": "markdown",
   "metadata": {},
   "source": [
    "Use these in order `opt.zero_grad()`, `loss.backward()`, `opt.step()`\n",
    "\n",
    "1. `zero_grad` clears old gradients from the last step (otherwise you’d just accumulate the gradients from all `loss.backward()` calls).\n",
    "\n",
    "2. `loss.backward()` computes the derivative of the loss w.r.t. the parameters (or anything requiring gradients) using backpropagation.\n",
    "\n",
    "3. `opt.step()` causes the optimizer to take a step based on the gradients of the parameters."
   ]
  },
  {
   "cell_type": "code",
   "execution_count": 54,
   "metadata": {},
   "outputs": [],
   "source": [
    "optimizer = optim.Adam(network.parameters(),lr=0.01)"
   ]
  },
  {
   "cell_type": "code",
   "execution_count": 55,
   "metadata": {},
   "outputs": [],
   "source": [
    "optimizer.step() # update weights"
   ]
  },
  {
   "cell_type": "code",
   "execution_count": 56,
   "metadata": {},
   "outputs": [
    {
     "name": "stdout",
     "output_type": "stream",
     "text": [
      "6\n"
     ]
    },
    {
     "data": {
      "text/plain": [
       "2.276207685470581"
      ]
     },
     "execution_count": 56,
     "metadata": {},
     "output_type": "execute_result"
    }
   ],
   "source": [
    "# Predict again and you will see a decrease in loss\n",
    "\n",
    "pred = network(images)\n",
    "print(get_correct_pred(pred,labels))\n",
    "loss = F.cross_entropy(pred,labels)\n",
    "loss.item()"
   ]
  },
  {
   "cell_type": "markdown",
   "metadata": {},
   "source": [
    "`network.zero_grad()` and `optimizer.zero_grad()` are the same IFF all your model parameters are in that optimizer just like we have `optimizer = optim.Adam(network.parameters(),lr=0.01)`. \n",
    "\n",
    "I found it is safer to call ```network.zero_grad()``` to make sure all grads are zero, e.g. if you have two or more optimizers for one model."
   ]
  },
  {
   "cell_type": "markdown",
   "metadata": {},
   "source": [
    "# Epoch Model Training"
   ]
  },
  {
   "cell_type": "code",
   "execution_count": 57,
   "metadata": {},
   "outputs": [
    {
     "name": "stderr",
     "output_type": "stream",
     "text": [
      "100%|██████████| 469/469 [00:28<00:00, 16.58it/s]\n",
      "  0%|          | 0/469 [00:00<?, ?it/s]"
     ]
    },
    {
     "name": "stdout",
     "output_type": "stream",
     "text": [
      "End of Epoch: 1, Training Accuracy: 0.7626666666666667, Average Training Loss: 0.6265134630203247\n"
     ]
    },
    {
     "name": "stderr",
     "output_type": "stream",
     "text": [
      "100%|██████████| 469/469 [00:30<00:00, 15.42it/s]\n",
      "  0%|          | 0/469 [00:00<?, ?it/s]"
     ]
    },
    {
     "name": "stdout",
     "output_type": "stream",
     "text": [
      "End of Epoch: 2, Training Accuracy: 0.8387, Average Training Loss: 0.4351891497929891\n"
     ]
    },
    {
     "name": "stderr",
     "output_type": "stream",
     "text": [
      "100%|██████████| 469/469 [00:29<00:00, 15.96it/s]\n",
      "  0%|          | 0/469 [00:00<?, ?it/s]"
     ]
    },
    {
     "name": "stdout",
     "output_type": "stream",
     "text": [
      "End of Epoch: 3, Training Accuracy: 0.8519833333333333, Average Training Loss: 0.39817621879577636\n"
     ]
    },
    {
     "name": "stderr",
     "output_type": "stream",
     "text": [
      "100%|██████████| 469/469 [00:31<00:00, 15.06it/s]\n",
      "  0%|          | 0/469 [00:00<?, ?it/s]"
     ]
    },
    {
     "name": "stdout",
     "output_type": "stream",
     "text": [
      "End of Epoch: 4, Training Accuracy: 0.8592833333333333, Average Training Loss: 0.375452392355601\n"
     ]
    },
    {
     "name": "stderr",
     "output_type": "stream",
     "text": [
      "100%|██████████| 469/469 [00:30<00:00, 15.37it/s]\n",
      "  0%|          | 0/469 [00:00<?, ?it/s]"
     ]
    },
    {
     "name": "stdout",
     "output_type": "stream",
     "text": [
      "End of Epoch: 5, Training Accuracy: 0.86375, Average Training Loss: 0.36224046274820965\n"
     ]
    },
    {
     "name": "stderr",
     "output_type": "stream",
     "text": [
      "100%|██████████| 469/469 [00:31<00:00, 15.07it/s]\n",
      "  0%|          | 0/469 [00:00<?, ?it/s]"
     ]
    },
    {
     "name": "stdout",
     "output_type": "stream",
     "text": [
      "End of Epoch: 6, Training Accuracy: 0.8674333333333333, Average Training Loss: 0.354014954884847\n"
     ]
    },
    {
     "name": "stderr",
     "output_type": "stream",
     "text": [
      "100%|██████████| 469/469 [00:32<00:00, 14.45it/s]\n",
      "  0%|          | 0/469 [00:00<?, ?it/s]"
     ]
    },
    {
     "name": "stdout",
     "output_type": "stream",
     "text": [
      "End of Epoch: 7, Training Accuracy: 0.8688833333333333, Average Training Loss: 0.346847056166331\n"
     ]
    },
    {
     "name": "stderr",
     "output_type": "stream",
     "text": [
      "100%|██████████| 469/469 [00:36<00:00, 12.79it/s]\n",
      "  0%|          | 0/469 [00:00<?, ?it/s]"
     ]
    },
    {
     "name": "stdout",
     "output_type": "stream",
     "text": [
      "End of Epoch: 8, Training Accuracy: 0.8725833333333334, Average Training Loss: 0.33984618577957154\n"
     ]
    },
    {
     "name": "stderr",
     "output_type": "stream",
     "text": [
      "100%|██████████| 469/469 [00:31<00:00, 14.79it/s]\n",
      "  0%|          | 0/469 [00:00<?, ?it/s]"
     ]
    },
    {
     "name": "stdout",
     "output_type": "stream",
     "text": [
      "End of Epoch: 9, Training Accuracy: 0.8708833333333333, Average Training Loss: 0.34293560094833375\n"
     ]
    },
    {
     "name": "stderr",
     "output_type": "stream",
     "text": [
      "100%|██████████| 469/469 [00:27<00:00, 16.90it/s]"
     ]
    },
    {
     "name": "stdout",
     "output_type": "stream",
     "text": [
      "End of Epoch: 10, Training Accuracy: 0.87445, Average Training Loss: 0.3324730976422628\n"
     ]
    },
    {
     "name": "stderr",
     "output_type": "stream",
     "text": [
      "\n"
     ]
    }
   ],
   "source": []
  },
  {
   "cell_type": "markdown",
   "metadata": {},
   "source": [
    "# Getting Predictions after training"
   ]
  },
  {
   "cell_type": "code",
   "execution_count": 58,
   "metadata": {},
   "outputs": [],
   "source": [
    "# @torch.no_grad() # if decorator is used here, we don't need with torch.no_grad() later\n",
    "def get_all_pred_from_loader(model,loader):\n",
    "    all_pred = torch.Tensor([])\n",
    "    for batch in loader:\n",
    "        images,labels = batch\n",
    "        pred = model(images)\n",
    "        \n",
    "        all_pred = torch.cat((all_pred,pred),dim=0)\n",
    "    return all_pred"
   ]
  },
  {
   "cell_type": "code",
   "execution_count": 59,
   "metadata": {},
   "outputs": [],
   "source": [
    "with torch.no_grad(): # we do not want to compute gradients\n",
    "    loader = torch.utils.data.DataLoader(train_set,batch_size=128)\n",
    "    preds = get_all_pred_from_loader(network,loader)"
   ]
  },
  {
   "cell_type": "code",
   "execution_count": 60,
   "metadata": {},
   "outputs": [
    {
     "name": "stdout",
     "output_type": "stream",
     "text": [
      "0.87445\n"
     ]
    }
   ],
   "source": [
    "total_correct = get_correct_pred(preds,train_set.targets)\n",
    "accu = total_correct/len(train_set)\n",
    "print(acc)"
   ]
  },
  {
   "cell_type": "markdown",
   "metadata": {},
   "source": [
    "# Build Confusion Matrix"
   ]
  },
  {
   "cell_type": "code",
   "execution_count": 61,
   "metadata": {},
   "outputs": [
    {
     "name": "stdout",
     "output_type": "stream",
     "text": [
      "torch.Size([60000, 2])\n"
     ]
    },
    {
     "data": {
      "text/plain": [
       "tensor([[9, 9],\n",
       "        [0, 0],\n",
       "        [0, 0],\n",
       "        [3, 0],\n",
       "        [0, 0]])"
      ]
     },
     "execution_count": 61,
     "metadata": {},
     "output_type": "execute_result"
    }
   ],
   "source": [
    "stacked = torch.stack((train_set.targets,preds.argmax(dim=1)),dim=1)\n",
    "print(stacked.shape)\n",
    "stacked[:5] # original, predicted"
   ]
  },
  {
   "cell_type": "markdown",
   "metadata": {},
   "source": [
    "### You can try to use concat but it won't make columns. Concat works like `list.extend()`"
   ]
  },
  {
   "cell_type": "code",
   "execution_count": 62,
   "metadata": {},
   "outputs": [
    {
     "name": "stdout",
     "output_type": "stream",
     "text": [
      "torch.Size([120000])\n"
     ]
    },
    {
     "data": {
      "text/plain": [
       "tensor([9, 0, 0, 3, 0])"
      ]
     },
     "execution_count": 62,
     "metadata": {},
     "output_type": "execute_result"
    }
   ],
   "source": [
    "concat = torch.cat((train_set.targets,preds.argmax(dim=1)),dim=-1) # or use dim=0 . dim=1 gives error\n",
    "print(concat.shape)\n",
    "concat[:5] # original, predicted"
   ]
  },
  {
   "cell_type": "code",
   "execution_count": 63,
   "metadata": {},
   "outputs": [
    {
     "data": {
      "text/plain": [
       "tensor([[5496,    3,   50,   98,   24,    2,  289,    0,   38,    0],\n",
       "        [  15, 5831,    0,  118,   17,    1,   11,    0,    7,    0],\n",
       "        [  68,    3, 3313,   40, 1374,    1, 1175,    0,   26,    0],\n",
       "        [ 246,   18,   18, 5286,  271,    2,  147,    0,   11,    1],\n",
       "        [   9,    3,   62,  145, 5160,    0,  581,    0,   40,    0],\n",
       "        [   0,    0,    0,    0,    0, 5694,    0,   82,   83,  141],\n",
       "        [1341,    3,  224,   94,  518,    0, 3745,    0,   75,    0],\n",
       "        [   0,    0,    0,    0,    0,   78,    0, 5456,   88,  378],\n",
       "        [  30,    6,   14,    7,   29,    1,   34,    1, 5872,    6],\n",
       "        [   0,    0,    0,    0,    0,   18,    0,   98,    3, 5881]],\n",
       "       dtype=torch.int32)"
      ]
     },
     "execution_count": 63,
     "metadata": {},
     "output_type": "execute_result"
    }
   ],
   "source": [
    "conf_mat = torch.zeros((10,10),dtype=torch.int32)\n",
    "for row_val in stacked:\n",
    "    true,pred = row_val.tolist() # unpack row value\n",
    "    conf_mat[true,pred] = conf_mat[true,pred]+1 # whatever value was there, +1. Because we have 0-9 label\n",
    "\n",
    "conf_mat"
   ]
  },
  {
   "cell_type": "code",
   "execution_count": 64,
   "metadata": {},
   "outputs": [
    {
     "data": {
      "text/plain": [
       "array([[5496,    3,   50,   98,   24,    2,  289,    0,   38,    0],\n",
       "       [  15, 5831,    0,  118,   17,    1,   11,    0,    7,    0],\n",
       "       [  68,    3, 3313,   40, 1374,    1, 1175,    0,   26,    0],\n",
       "       [ 246,   18,   18, 5286,  271,    2,  147,    0,   11,    1],\n",
       "       [   9,    3,   62,  145, 5160,    0,  581,    0,   40,    0],\n",
       "       [   0,    0,    0,    0,    0, 5694,    0,   82,   83,  141],\n",
       "       [1341,    3,  224,   94,  518,    0, 3745,    0,   75,    0],\n",
       "       [   0,    0,    0,    0,    0,   78,    0, 5456,   88,  378],\n",
       "       [  30,    6,   14,    7,   29,    1,   34,    1, 5872,    6],\n",
       "       [   0,    0,    0,    0,    0,   18,    0,   98,    3, 5881]])"
      ]
     },
     "execution_count": 64,
     "metadata": {},
     "output_type": "execute_result"
    }
   ],
   "source": [
    "conf_mat2 = confusion_matrix(train_set.targets,preds.argmax(dim=1)) # sklearn\n",
    "conf_mat2"
   ]
  },
  {
   "cell_type": "code",
   "execution_count": 65,
   "metadata": {},
   "outputs": [
    {
     "data": {
      "text/plain": [
       "Text(51.0, 0.5, 'Actual Labels')"
      ]
     },
     "execution_count": 65,
     "metadata": {},
     "output_type": "execute_result"
    },
    {
     "data": {
      "image/png": "[encoded data removed]",
      "text/plain": [
       "<Figure size 576x360 with 2 Axes>"
      ]
     },
     "metadata": {
      "needs_background": "light"
     },
     "output_type": "display_data"
    }
   ],
   "source": [
    "# change conf_mat tensor to numpy or directly pass conf_mat2\n",
    "conf_df = pd.DataFrame(conf_mat.numpy(),columns=train_set.classes,index=train_set.classes)\n",
    "\n",
    "f,ax = plt.subplots(1,1,figsize=(8,5))\n",
    "sns.heatmap(conf_df,annot=True,lw=0.8,cmap='Pastel1',ax=ax,\n",
    "            fmt='d', # fmt='d'/ fmt='g' for suppressing scientific notation\n",
    "            annot_kws={\"size\": 10})\n",
    "\n",
    "ax.set_xlabel('Predicted Labels',size='x-large')\n",
    "ax.set_ylabel('Actual Labels',size='x-large')"
   ]
  },
  {
   "cell_type": "markdown",
   "metadata": {},
   "source": [
    "# Hyper Parameter tuning with Tensorboard and loops\n",
    "Works like GridSearch"
   ]
  },
  {
   "cell_type": "code",
   "execution_count": null,
   "metadata": {},
   "outputs": [],
   "source": [
    "batch_list = [32,128,512,1024]\n",
    "lr_list = [0.1,0.01,0.001]\n",
    "shuffle_list = [True,False]\n",
    "\n",
    "all_lists = [batch_list,lr_list,shuffle_list] \n",
    "permutations = list(itertools.product(*all_list))\n",
    "\n",
    "for BATCH_SIZE,lr,shuffle in permutations:\n",
    "    \n",
    "    network = Network()\n",
    "    optimizer = optim.Adam(network.parameters(),lr=lr)\n",
    "\n",
    "    comment = f\"Hyper Parameters: BATCH={BATCH}, lr={lr},shuffle={shuffle}\"\n",
    "    tb = SummaryWriter(comment=comment)\n",
    "    \n",
    "    for epoch in range(5):\n",
    "\n",
    "        total_loss = 0\n",
    "        total_accuracy = 0\n",
    "        \n",
    "        train_loader = torch.utils.data.DataLoader(train_set,batch_size=BATCH_SIZE) \n",
    "\n",
    "        for batch in tqdm(train_loader): \n",
    "            images,labels = batch\n",
    "\n",
    "            pred = network(images)\n",
    "            loss = F.cross_entropy(pred,labels,reduction='sum')\n",
    "\n",
    "            optimizer.zero_grad()\n",
    "            loss.backward()\n",
    "            optimizer.step()\n",
    "\n",
    "            total_loss+= loss.item()\n",
    "            total_accuracy+= get_correct_pred(pred,labels)\n",
    "\n",
    "        acc = (total_accuracy/len(train_set))\n",
    "        avg_loss = (total_loss/len(train_set))\n",
    "\n",
    "        tb.add_scalar('AVG Loss',avg_loss,epoch)\n",
    "        tb.add_scalar('Accuracy',acc,epoch)\n",
    "        tb.add_scalar('Total Correct',total_accuracy,epoch)\n",
    "\n",
    "        for layer_name,weight in network.named_parameters():\n",
    "            tb.add_histogram(layer_name,weight,epoch)\n",
    "            tb.add_histogram(f'{layer_name}.grad',weight.grad,epoch)\n",
    "\n",
    "tb.close()"
   ]
  },
  {
   "cell_type": "markdown",
   "metadata": {},
   "source": [
    "# Load data from Numpy Array or Pandas DataFrame"
   ]
  },
  {
   "cell_type": "code",
   "execution_count": 66,
   "metadata": {},
   "outputs": [
    {
     "name": "stdout",
     "output_type": "stream",
     "text": [
      "[array([[1., 2.],\n",
      "       [3., 4.]]), array([[5., 6.],\n",
      "       [7., 8.]])] \n",
      "\n",
      "[array([4.]), array([2.])] \n",
      "\n",
      "tensor([[[1., 2.],\n",
      "         [3., 4.]],\n",
      "\n",
      "        [[5., 6.],\n",
      "         [7., 8.]]])\n"
     ]
    }
   ],
   "source": [
    "my_x = [np.array([[1.0,2],[3,4]]),np.array([[5.,6],[7,8]])] # a list of numpy arrays\n",
    "print(my_x,'\\n')\n",
    "my_y = [np.array([4.]), np.array([2.])] # another list of numpy arrays (targets)\n",
    "print(my_y,'\\n')\n",
    "\n",
    "tensor_x = torch.Tensor(my_x) # transform to torch tensor\n",
    "print(tensor_x)\n",
    "tensor_y = torch.Tensor(my_y)\n",
    "\n",
    "my_dataset = torch.utils.data.TensorDataset(tensor_x,tensor_y) # create your datset\n",
    "my_dataloader = torch.utils.data.DataLoader(my_dataset) # create your dataloader"
   ]
  },
  {
   "cell_type": "markdown",
   "metadata": {},
   "source": [
    "# Loading images from Directory"
   ]
  },
  {
   "cell_type": "code",
   "execution_count": 67,
   "metadata": {},
   "outputs": [],
   "source": [
    "def load_dataset():\n",
    "    data_path = 'data/train/'\n",
    "    train_dataset = torchvision.datasets.ImageFolder(\n",
    "        root=data_path,\n",
    "        transform=torchvision.transforms.ToTensor()\n",
    "    )\n",
    "    train_loader = torch.utils.data.DataLoader(\n",
    "        train_dataset,\n",
    "        batch_size=64,\n",
    "        num_workers=0,\n",
    "        shuffle=True\n",
    "    )\n",
    "    return train_loader\n",
    "\n",
    "# for batch_idx, (data, target) in enumerate(load_dataset()):\n",
    "    #train network"
   ]
  },
  {
   "cell_type": "markdown",
   "metadata": {},
   "source": [
    "# Keras type -Different classes in different folders- loading\n",
    "[Link to demo and documentation](https://pytorch.org/docs/master/torchvision/datasets.html#imagefolder)"
   ]
  },
  {
   "cell_type": "code",
   "execution_count": 68,
   "metadata": {},
   "outputs": [],
   "source": [
    "# train_dataset=datasets.ImageFolder(root=\"./root/\",transform=train_transforms)"
   ]
  },
  {
   "cell_type": "markdown",
   "metadata": {},
   "source": [
    "# Stack vs Concat"
   ]
  },
  {
   "cell_type": "markdown",
   "metadata": {},
   "source": [
    "![Stack verss concat scenario](stack_concat.png \"Scenario\")"
   ]
  },
  {
   "cell_type": "markdown",
   "metadata": {},
   "source": [
    "Suppose we have a scenario where we have 3 individual images with `(C,W,H)` and three seperate images as `(B,C,W,H)`. What do we do now? \n",
    "\n",
    "Ans: Stack the upper three images and concat those with the below 3 to make a batch of 6 images"
   ]
  },
  {
   "cell_type": "markdown",
   "metadata": {},
   "source": [
    "# Numpy Extra"
   ]
  },
  {
   "cell_type": "markdown",
   "metadata": {},
   "source": [
    "## Adding an extra dimension as a batch inside a matrix in numpy\n",
    "You can use np.reshape() and adding extra one dimension anywhere won't effect because number of elements will always be same"
   ]
  },
  {
   "cell_type": "code",
   "execution_count": 69,
   "metadata": {},
   "outputs": [
    {
     "name": "stdout",
     "output_type": "stream",
     "text": [
      "Original:  (3, 10, 20)\n",
      "Case 1:  (1, 3, 1, 1, 10, 20, 1, 1, 1)\n",
      "Case 2:  (1, 25, 1, 12, 1, 2, 1)\n"
     ]
    }
   ],
   "source": [
    "x = np.zeros((3,10,20))\n",
    "print('Original: ',x.shape)\n",
    "print('Case 1: ',np.reshape(x,(1,3,1,1,10,20,1,1,1)).shape)\n",
    "print('Case 2: ',np.reshape(x,(1,25,1,12,1,2,1)).shape)"
   ]
  },
  {
   "cell_type": "code",
   "execution_count": 70,
   "metadata": {},
   "outputs": [
    {
     "name": "stdout",
     "output_type": "stream",
     "text": [
      "Add new axis at: 0\n",
      "New Shape is:  (1, 3, 10, 20) \n",
      "\n",
      "Add new axis at: 1\n",
      "New Shape is:  (3, 1, 10, 20) \n",
      "\n",
      "Add new axis at: 2\n",
      "New Shape is:  (3, 10, 1, 20) \n",
      "\n",
      "Add new axis at: 3\n",
      "New Shape is:  (3, 10, 20, 1) \n",
      "\n"
     ]
    }
   ],
   "source": [
    "for i in range(len(x.shape)+1):\n",
    "    print('Add new axis at:',i)\n",
    "    print('New Shape is: ',np.expand_dims(x,axis=i).shape,'\\n')"
   ]
  },
  {
   "cell_type": "markdown",
   "metadata": {},
   "source": [
    "## Stack and Concatenate\n",
    "Numpy has `np.stack()` and `np.concatenate()` functionality just like PyTorch so we can use these too"
   ]
  },
  {
   "cell_type": "code",
   "execution_count": 71,
   "metadata": {},
   "outputs": [],
   "source": [
    "t1,t2,t3 = np.array([1,1,1]),np.array([2,2,2]),np.array([3,3,3])"
   ]
  },
  {
   "cell_type": "markdown",
   "metadata": {},
   "source": [
    "#### Concatenate"
   ]
  },
  {
   "cell_type": "code",
   "execution_count": 72,
   "metadata": {},
   "outputs": [
    {
     "data": {
      "text/plain": [
       "array([1, 1, 1, 2, 2, 2, 3, 3, 3])"
      ]
     },
     "execution_count": 72,
     "metadata": {},
     "output_type": "execute_result"
    }
   ],
   "source": [
    "x_simple_cat_dim0 = np.concatenate((t1,t2,t3),)\n",
    "x_simple_cat_dim0\n",
    "\n",
    "\n",
    "# Below code will produce error as there is no axis=1\n",
    "# x_simple_cat_dim1 = np.concatenate((t1,t2,t3),axis=1)\n",
    "# print(x_simple_cat_dim1)"
   ]
  },
  {
   "cell_type": "markdown",
   "metadata": {},
   "source": [
    "#### Concatenate + expand_dims"
   ]
  },
  {
   "cell_type": "code",
   "execution_count": 73,
   "metadata": {},
   "outputs": [
    {
     "data": {
      "text/plain": [
       "array([[1, 1, 1],\n",
       "       [2, 2, 2],\n",
       "       [3, 3, 3]])"
      ]
     },
     "execution_count": 73,
     "metadata": {},
     "output_type": "execute_result"
    }
   ],
   "source": [
    "np.concatenate((np.expand_dims(t1,0),\n",
    "                np.expand_dims(t2,0),\n",
    "                np.expand_dims(t3,0)),\n",
    "               axis=0)"
   ]
  },
  {
   "cell_type": "code",
   "execution_count": 74,
   "metadata": {},
   "outputs": [
    {
     "data": {
      "text/plain": [
       "array([[1, 1, 1, 2, 2, 2, 3, 3, 3]])"
      ]
     },
     "execution_count": 74,
     "metadata": {},
     "output_type": "execute_result"
    }
   ],
   "source": [
    "np.concatenate((np.expand_dims(t1,0),\n",
    "                np.expand_dims(t2,0),\n",
    "                np.expand_dims(t3,0)),\n",
    "               axis=1)"
   ]
  },
  {
   "cell_type": "code",
   "execution_count": 75,
   "metadata": {},
   "outputs": [
    {
     "data": {
      "text/plain": [
       "array([[1],\n",
       "       [1],\n",
       "       [1],\n",
       "       [2],\n",
       "       [2],\n",
       "       [2],\n",
       "       [3],\n",
       "       [3],\n",
       "       [3]])"
      ]
     },
     "execution_count": 75,
     "metadata": {},
     "output_type": "execute_result"
    }
   ],
   "source": [
    "np.concatenate((np.expand_dims(t1,1),\n",
    "                np.expand_dims(t2,1),\n",
    "                np.expand_dims(t3,1)),\n",
    "               axis=0)"
   ]
  },
  {
   "cell_type": "code",
   "execution_count": 76,
   "metadata": {},
   "outputs": [
    {
     "data": {
      "text/plain": [
       "array([[1, 2, 3],\n",
       "       [1, 2, 3],\n",
       "       [1, 2, 3]])"
      ]
     },
     "execution_count": 76,
     "metadata": {},
     "output_type": "execute_result"
    }
   ],
   "source": [
    "np.concatenate((np.expand_dims(t1,1),\n",
    "                np.expand_dims(t2,1),\n",
    "                np.expand_dims(t3,1)),\n",
    "               axis=1)"
   ]
  },
  {
   "cell_type": "markdown",
   "metadata": {},
   "source": [
    "#### Stack"
   ]
  },
  {
   "cell_type": "code",
   "execution_count": 77,
   "metadata": {},
   "outputs": [
    {
     "data": {
      "text/plain": [
       "array([[1, 1, 1],\n",
       "       [2, 2, 2],\n",
       "       [3, 3, 3]])"
      ]
     },
     "execution_count": 77,
     "metadata": {},
     "output_type": "execute_result"
    }
   ],
   "source": [
    "x_simple_stack_dim0 = np.stack((t1,t2,t3),axis=0)\n",
    "x_simple_stack_dim0"
   ]
  },
  {
   "cell_type": "code",
   "execution_count": 78,
   "metadata": {},
   "outputs": [
    {
     "data": {
      "text/plain": [
       "array([[1, 2, 3],\n",
       "       [1, 2, 3],\n",
       "       [1, 2, 3]])"
      ]
     },
     "execution_count": 78,
     "metadata": {},
     "output_type": "execute_result"
    }
   ],
   "source": [
    "x_simple_stack_dim1 = np.stack((t1,t2,t3),axis=1)\n",
    "x_simple_stack_dim1"
   ]
  },
  {
   "cell_type": "markdown",
   "metadata": {},
   "source": [
    "### Stack -> {concat(expand_dims),stack}"
   ]
  },
  {
   "cell_type": "code",
   "execution_count": 79,
   "metadata": {},
   "outputs": [
    {
     "data": {
      "text/plain": [
       "array([[[1, 2, 3],\n",
       "        [1, 2, 3],\n",
       "        [1, 2, 3]],\n",
       "\n",
       "       [[1, 1, 1],\n",
       "        [2, 2, 2],\n",
       "        [3, 3, 3]]])"
      ]
     },
     "execution_count": 79,
     "metadata": {},
     "output_type": "execute_result"
    }
   ],
   "source": [
    "np.stack((np.concatenate((np.expand_dims(t1,1),np.expand_dims(t2,1),np.expand_dims(t3,1)),axis=1),\n",
    "                np.stack((t1,t2,t3))),axis=0)"
   ]
  },
  {
   "cell_type": "markdown",
   "metadata": {},
   "source": [
    "This what we usually aim for. This is a batch of 2 made by stacking 2 grayscale images"
   ]
  },
  {
   "cell_type": "code",
   "execution_count": 80,
   "metadata": {},
   "outputs": [
    {
     "data": {
      "text/plain": [
       "array([[[1, 2, 3],\n",
       "        [1, 1, 1]],\n",
       "\n",
       "       [[1, 2, 3],\n",
       "        [2, 2, 2]],\n",
       "\n",
       "       [[1, 2, 3],\n",
       "        [3, 3, 3]]])"
      ]
     },
     "execution_count": 80,
     "metadata": {},
     "output_type": "execute_result"
    }
   ],
   "source": [
    "np.stack((np.concatenate((np.expand_dims(t1,1),np.expand_dims(t2,1),np.expand_dims(t3,1)),axis=1),\n",
    "                np.stack((t1,t2,t3))),axis=1)"
   ]
  },
  {
   "cell_type": "markdown",
   "metadata": {},
   "source": [
    "### Concat -> {concat(expand_dims),stack}"
   ]
  },
  {
   "cell_type": "code",
   "execution_count": 81,
   "metadata": {},
   "outputs": [
    {
     "data": {
      "text/plain": [
       "array([[1, 2, 3],\n",
       "       [1, 2, 3],\n",
       "       [1, 2, 3],\n",
       "       [1, 1, 1],\n",
       "       [2, 2, 2],\n",
       "       [3, 3, 3]])"
      ]
     },
     "execution_count": 81,
     "metadata": {},
     "output_type": "execute_result"
    }
   ],
   "source": [
    "np.concatenate((np.concatenate((np.expand_dims(t1,1),np.expand_dims(t2,1),np.expand_dims(t3,1)),axis=1),\n",
    "                np.stack((t1,t2,t3))),axis=0)"
   ]
  },
  {
   "cell_type": "code",
   "execution_count": 82,
   "metadata": {},
   "outputs": [
    {
     "data": {
      "text/plain": [
       "array([[1, 2, 3, 1, 1, 1],\n",
       "       [1, 2, 3, 2, 2, 2],\n",
       "       [1, 2, 3, 3, 3, 3]])"
      ]
     },
     "execution_count": 82,
     "metadata": {},
     "output_type": "execute_result"
    }
   ],
   "source": [
    "np.concatenate((np.concatenate((np.expand_dims(t1,1),np.expand_dims(t2,1),np.expand_dims(t3,1)),axis=1),\n",
    "                np.stack((t1,t2,t3))),axis=1)"
   ]
  },
  {
   "cell_type": "markdown",
   "metadata": {},
   "source": [
    "## Channel First Channel Last Problem Solution.\n",
    "Sometimes when we have our data in the form of `(B,C,W,H)`and we have to feed the model with `(B,W,H,C)` or vice versa, then we'll have to change the axis. Numpy has a functionality for it and we can do it by using more than one method"
   ]
  },
  {
   "cell_type": "code",
   "execution_count": 83,
   "metadata": {},
   "outputs": [
    {
     "name": "stdout",
     "output_type": "stream",
     "text": [
      "Before:  (3, 10, 20)\n",
      "Method 1: (10, 20, 3)\n",
      "Method 2:  (10, 20, 3)\n",
      "Method 3:  (10, 20, 3)\n",
      "Method 4:  (10, 20, 3)\n",
      "Method 5:  (10, 20, 3)\n"
     ]
    }
   ],
   "source": [
    "x = np.zeros((3,10,20))\n",
    "print('Before: ',x.shape)\n",
    "\n",
    "# %timeit np.moveaxis(x,[0,1,2],[2,0,1])\n",
    "x1 = np.moveaxis(x,[0,1,2],[2,0,1]) # use single digit for a single axis rotation\n",
    "print('Method 1:', x1.shape)\n",
    "\n",
    "# %timeit np.einsum('ijk->kij',x)\n",
    "x2 = np.einsum('ijk->jki',x)\n",
    "print('Method 2: ',x2.shape)\n",
    "\n",
    "x3 = np.rollaxis(x, 0, 3)\n",
    "print('Method 3: ',x3.shape)\n",
    "\n",
    "x4 = np.transpose(x,axes=(1,2,0))\n",
    "print('Method 4: ',x4.shape)\n",
    "\n",
    "x5 = np.reshape(x,(10,20,3))\n",
    "print('Method 5: ',x5.shape)"
   ]
  },
  {
   "cell_type": "markdown",
   "metadata": {},
   "source": [
    "# Inserting  and changing values in numpy arrays"
   ]
  },
  {
   "cell_type": "code",
   "execution_count": 84,
   "metadata": {},
   "outputs": [
    {
     "data": {
      "text/plain": [
       "array([[0., 0., 0.],\n",
       "       [0., 0., 0.],\n",
       "       [0., 0., 0.]])"
      ]
     },
     "execution_count": 84,
     "metadata": {},
     "output_type": "execute_result"
    }
   ],
   "source": [
    "x = np.zeros((3,3))\n",
    "x"
   ]
  },
  {
   "cell_type": "code",
   "execution_count": 85,
   "metadata": {},
   "outputs": [
    {
     "data": {
      "text/plain": [
       "array([[3., 3., 3.],\n",
       "       [0., 0., 0.],\n",
       "       [0., 0., 0.]])"
      ]
     },
     "execution_count": 85,
     "metadata": {},
     "output_type": "execute_result"
    }
   ],
   "source": [
    "x[0] = 3\n",
    "x"
   ]
  },
  {
   "cell_type": "code",
   "execution_count": 86,
   "metadata": {},
   "outputs": [
    {
     "data": {
      "text/plain": [
       "array([[3., 1., 1.],\n",
       "       [0., 0., 0.],\n",
       "       [0., 0., 0.]])"
      ]
     },
     "execution_count": 86,
     "metadata": {},
     "output_type": "execute_result"
    }
   ],
   "source": [
    "x[0,1:] = 1\n",
    "x"
   ]
  },
  {
   "cell_type": "code",
   "execution_count": 87,
   "metadata": {},
   "outputs": [
    {
     "data": {
      "text/plain": [
       "array([[3. , 1. , 1. ],\n",
       "       [0. , 4.4, 5.5],\n",
       "       [0. , 4.4, 5.5]])"
      ]
     },
     "execution_count": 87,
     "metadata": {},
     "output_type": "execute_result"
    }
   ],
   "source": [
    "x[1:,1:] = [4.4,5.5] \n",
    "x"
   ]
  },
  {
   "cell_type": "code",
   "execution_count": null,
   "metadata": {},
   "outputs": [],
   "source": []
  },
  {
   "cell_type": "code",
   "execution_count": null,
   "metadata": {},
   "outputs": [],
   "source": []
  },
  {
   "cell_type": "code",
   "execution_count": null,
   "metadata": {},
   "outputs": [],
   "source": []
  },
  {
   "cell_type": "code",
   "execution_count": 89,
   "metadata": {},
   "outputs": [
    {
     "name": "stdout",
     "output_type": "stream",
     "text": [
      "[master 6d321b8] tensorboard loop of hist\n",
      " 1 file changed, 493 insertions(+), 59 deletions(-)\n"
     ]
    }
   ],
   "source": [
    "! git commit -m \"tensorboard loop of hist\" \"PyTorch.ipynb\""
   ]
  },
  {
   "cell_type": "code",
   "execution_count": null,
   "metadata": {},
   "outputs": [],
   "source": []
  }
 ],
 "metadata": {
  "kernelspec": {
   "display_name": "Python 3",
   "language": "python",
   "name": "python3"
  },
  "language_info": {
   "codemirror_mode": {
    "name": "ipython",
    "version": 3
   },
   "file_extension": ".py",
   "mimetype": "text/x-python",
   "name": "python",
   "nbconvert_exporter": "python",
   "pygments_lexer": "ipython3",
   "version": "3.7.4"
  }
 },
 "nbformat": 4,
 "nbformat_minor": 4
}
