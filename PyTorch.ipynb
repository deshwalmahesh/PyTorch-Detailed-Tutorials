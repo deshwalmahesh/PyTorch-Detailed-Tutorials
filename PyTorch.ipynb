{
 "cells": [
  {
   "cell_type": "code",
   "execution_count": 1,
   "metadata": {},
   "outputs": [],
   "source": [
    "import numpy as np\n",
    "import pandas as pd\n",
    "import torch\n",
    "from torch import nn\n",
    "import torch.nn.functional as F\n",
    "import torchvision\n",
    "from torchvision import transforms\n",
    "import matplotlib.pyplot as plt"
   ]
  },
  {
   "cell_type": "markdown",
   "metadata": {},
   "source": [
    "# Basic Operations \n",
    "Deep Lizard"
   ]
  },
  {
   "cell_type": "code",
   "execution_count": 2,
   "metadata": {},
   "outputs": [
    {
     "data": {
      "text/plain": [
       "tensor([[1, 2],\n",
       "        [3, 4]])"
      ]
     },
     "execution_count": 2,
     "metadata": {},
     "output_type": "execute_result"
    }
   ],
   "source": [
    "t = torch.tensor([[1,2],[3,4]])\n",
    "t"
   ]
  },
  {
   "cell_type": "code",
   "execution_count": 3,
   "metadata": {},
   "outputs": [
    {
     "data": {
      "text/plain": [
       "torch.Size([2, 2])"
      ]
     },
     "execution_count": 3,
     "metadata": {},
     "output_type": "execute_result"
    }
   ],
   "source": [
    "t.shape"
   ]
  },
  {
   "cell_type": "code",
   "execution_count": 4,
   "metadata": {},
   "outputs": [
    {
     "data": {
      "text/plain": [
       "2"
      ]
     },
     "execution_count": 4,
     "metadata": {},
     "output_type": "execute_result"
    }
   ],
   "source": [
    "rank = len(t.shape) # len of shape = Rank\n",
    "rank"
   ]
  },
  {
   "cell_type": "code",
   "execution_count": 5,
   "metadata": {},
   "outputs": [
    {
     "name": "stdout",
     "output_type": "stream",
     "text": [
      "cpu\n",
      "<class 'torch.Tensor'>\n",
      "torch.LongTensor\n",
      "torch.int64\n",
      "torch.strided\n"
     ]
    }
   ],
   "source": [
    "print(t.device)\n",
    "print(type(t))\n",
    "print(t.type())\n",
    "print(t.dtype)\n",
    "print(t.layout)"
   ]
  },
  {
   "cell_type": "markdown",
   "metadata": {},
   "source": [
    "You can change the device to CUDA if you have GPU enabled"
   ]
  },
  {
   "cell_type": "code",
   "execution_count": 6,
   "metadata": {},
   "outputs": [
    {
     "data": {
      "text/plain": [
       "device(type='cuda', index=0)"
      ]
     },
     "execution_count": 6,
     "metadata": {},
     "output_type": "execute_result"
    }
   ],
   "source": [
    "device = torch.device('cuda:0')\n",
    "device"
   ]
  },
  {
   "cell_type": "markdown",
   "metadata": {},
   "source": [
    "## Operations on Tensors are done IFF they are on same device only and IFF they have same dType (version > 1.3.0 can perform operations on float and int)"
   ]
  },
  {
   "cell_type": "code",
   "execution_count": 7,
   "metadata": {},
   "outputs": [],
   "source": [
    "t1 = torch.tensor([[1,2],[2,3]])\n",
    "t2 = torch.tensor([[1.1,2.2],[2.2,3.3]])\n",
    "# t3 = t1.cuda() # No CUDA Present"
   ]
  },
  {
   "cell_type": "code",
   "execution_count": 8,
   "metadata": {},
   "outputs": [
    {
     "name": "stdout",
     "output_type": "stream",
     "text": [
      "torch.int64\n",
      "torch.float32\n"
     ]
    }
   ],
   "source": [
    "print(t1.dtype)\n",
    "print(t2.dtype)"
   ]
  },
  {
   "cell_type": "code",
   "execution_count": 9,
   "metadata": {},
   "outputs": [
    {
     "data": {
      "text/plain": [
       "tensor([[2.1000, 4.2000],\n",
       "        [4.2000, 6.3000]])"
      ]
     },
     "execution_count": 9,
     "metadata": {},
     "output_type": "execute_result"
    }
   ],
   "source": [
    "t1+t2"
   ]
  },
  {
   "cell_type": "markdown",
   "metadata": {},
   "source": [
    "## Create tensors from array or `data` and their differences"
   ]
  },
  {
   "cell_type": "code",
   "execution_count": 10,
   "metadata": {},
   "outputs": [
    {
     "data": {
      "text/plain": [
       "numpy.ndarray"
      ]
     },
     "execution_count": 10,
     "metadata": {},
     "output_type": "execute_result"
    }
   ],
   "source": [
    "data = np.array([1,2,3])\n",
    "type(data)"
   ]
  },
  {
   "cell_type": "code",
   "execution_count": 11,
   "metadata": {},
   "outputs": [
    {
     "name": "stdout",
     "output_type": "stream",
     "text": [
      "tensor([1., 2., 3.])\n",
      "<class 'torch.Tensor'>\n",
      "torch.FloatTensor\n",
      "torch.float32\n"
     ]
    }
   ],
   "source": [
    "t1 = torch.Tensor(data)  # Constructor\n",
    "# equivalent to t = torch.tensor(data,dtype=torch.float32)\n",
    "\n",
    "\n",
    "print(t1)\n",
    "print(type(t1))\n",
    "print(t1.type())\n",
    "print(t1.dtype)\n"
   ]
  },
  {
   "cell_type": "code",
   "execution_count": 12,
   "metadata": {},
   "outputs": [
    {
     "name": "stdout",
     "output_type": "stream",
     "text": [
      "tensor([1, 2, 3])\n",
      "<class 'torch.Tensor'>\n",
      "torch.LongTensor\n",
      "torch.int64\n"
     ]
    }
   ],
   "source": [
    "t2 = torch.tensor(data) # Factory Function \n",
    "#  equivalent to t = torch.tensor(data,dtype=torch.int64)\n",
    "\n",
    "\n",
    "print(t2)\n",
    "print(type(t2))\n",
    "print(t2.type())\n",
    "print(t2.dtype)"
   ]
  },
  {
   "cell_type": "code",
   "execution_count": 13,
   "metadata": {},
   "outputs": [
    {
     "name": "stdout",
     "output_type": "stream",
     "text": [
      "tensor([1, 2, 3])\n",
      "<class 'torch.Tensor'>\n",
      "torch.LongTensor\n",
      "torch.int64\n"
     ]
    }
   ],
   "source": [
    "t3 = torch.from_numpy(data) # Factory Function\n",
    "\n",
    "print(t3)\n",
    "print(type(t3))\n",
    "print(t3.type())\n",
    "print(t3.dtype)\n"
   ]
  },
  {
   "cell_type": "code",
   "execution_count": 14,
   "metadata": {},
   "outputs": [
    {
     "name": "stdout",
     "output_type": "stream",
     "text": [
      "tensor([1, 2, 3])\n",
      "<class 'torch.Tensor'>\n",
      "torch.LongTensor\n",
      "torch.int64\n"
     ]
    }
   ],
   "source": [
    "t4 = torch.as_tensor(data) # Factory Function\n",
    "\n",
    "print(t4)\n",
    "print(type(t4))\n",
    "print(t4.type())\n",
    "print(t4.dtype)\n"
   ]
  },
  {
   "cell_type": "markdown",
   "metadata": {},
   "source": [
    "### Modify values of `data` now"
   ]
  },
  {
   "cell_type": "code",
   "execution_count": 15,
   "metadata": {},
   "outputs": [],
   "source": [
    "data[0] = 5\n",
    "data[2] = 7"
   ]
  },
  {
   "cell_type": "code",
   "execution_count": 16,
   "metadata": {},
   "outputs": [
    {
     "name": "stdout",
     "output_type": "stream",
     "text": [
      "tensor([1., 2., 3.])\n",
      "tensor([1, 2, 3])\n",
      "tensor([5, 2, 7])\n",
      "tensor([5, 2, 7])\n"
     ]
    }
   ],
   "source": [
    "print(t1)\n",
    "print(t2)\n",
    "print(t3)\n",
    "print(t4)"
   ]
  },
  {
   "cell_type": "markdown",
   "metadata": {},
   "source": [
    "SEE the DIFFERENCE? First 2 use `COPY` of data. Last 2 `SHARE` the same instances"
   ]
  },
  {
   "cell_type": "markdown",
   "metadata": {},
   "source": [
    "### Reshaping, stacking, Flattening"
   ]
  },
  {
   "cell_type": "code",
   "execution_count": 17,
   "metadata": {},
   "outputs": [
    {
     "data": {
      "text/plain": [
       "tensor([[1, 1, 1, 1, 1, 1, 1, 1, 1, 1, 1, 1, 1, 1, 1, 1],\n",
       "        [2, 2, 2, 2, 2, 2, 2, 2, 2, 2, 2, 2, 2, 2, 2, 2],\n",
       "        [3, 3, 3, 3, 3, 3, 3, 3, 3, 3, 3, 3, 3, 3, 3, 3]])"
      ]
     },
     "execution_count": 17,
     "metadata": {},
     "output_type": "execute_result"
    }
   ],
   "source": [
    "# each value represents a pixel of 4*4 image\n",
    "one = torch.tensor([1,1,1,1,1,1,1,1,1,1,1,1,1,1,1,1]).reshape(4,4)  # converts into a 4*4 matrix\n",
    "two = torch.tensor([2,2,2,2,2,2,2,2,2,2,2,2,2,2,2,2]).reshape(4,4)\n",
    "three = torch.tensor([3,3,3,3,3,3,3,3,3,3,3,3,3,3,3,3]).reshape(4,4) \n",
    "stacked = torch.stack((one,two,three)) # make a batch of 3 images so shape is (3,4,4)\n",
    "stacked_reshaped = stacked.reshape((3,1,4,4)) # batch, color channels, height, width\n",
    "stacked_reshaped_flattened = stacked_reshaped.flatten(start_dim=1) \n",
    "# leave te batch but flatten all the pixels\n",
    "stacked_reshaped_flattened"
   ]
  },
  {
   "cell_type": "code",
   "execution_count": 18,
   "metadata": {},
   "outputs": [
    {
     "data": {
      "text/plain": [
       "tensor([[1, 1, 1, 1, 1, 1, 1, 1, 1, 1, 1, 1, 1, 1, 1, 1],\n",
       "        [2, 2, 2, 2, 2, 2, 2, 2, 2, 2, 2, 2, 2, 2, 2, 2],\n",
       "        [3, 3, 3, 3, 3, 3, 3, 3, 3, 3, 3, 3, 3, 3, 3, 3]])"
      ]
     },
     "execution_count": 18,
     "metadata": {},
     "output_type": "execute_result"
    }
   ],
   "source": [
    "another_method = stacked_reshaped.reshape((3,16)) # Flatten each image\n",
    "another_method"
   ]
  },
  {
   "cell_type": "markdown",
   "metadata": {},
   "source": [
    "### Tensor broadcasting\n",
    "Tensor works only and only on  `Element vise` operations"
   ]
  },
  {
   "cell_type": "code",
   "execution_count": 19,
   "metadata": {},
   "outputs": [
    {
     "name": "stdout",
     "output_type": "stream",
     "text": [
      "tensor([3., 6., 9.])\n",
      "tensor([3., 6., 9.])\n"
     ]
    }
   ],
   "source": [
    "print(t1*(3))\n",
    "print(t1.mul(3))\n",
    "# it is not scaler multiplication but the scaler is broadcasted"
   ]
  },
  {
   "cell_type": "code",
   "execution_count": 20,
   "metadata": {},
   "outputs": [
    {
     "data": {
      "text/plain": [
       "tensor([False,  True, False])"
      ]
     },
     "execution_count": 20,
     "metadata": {},
     "output_type": "execute_result"
    }
   ],
   "source": [
    "# To get the idea, it is like copying a scaler to same dimension and then checking every element\n",
    "# of one tensor to every element of second on the same index\n",
    "t1%2 == 0 "
   ]
  },
  {
   "cell_type": "code",
   "execution_count": 21,
   "metadata": {},
   "outputs": [
    {
     "name": "stdout",
     "output_type": "stream",
     "text": [
      "Broadcasted tensor: tensor([3, 3, 3])\n",
      "tensor([3., 6., 9.])\n",
      "tensor([3., 6., 9.])\n"
     ]
    }
   ],
   "source": [
    "# It is just like making an tensor of same shape as of given tensor but with all the scaler values\n",
    "broadcasted_3 = torch.from_numpy(np.broadcast_to(3,t1.shape))\n",
    "print(f'Broadcasted tensor: {broadcasted_3}')\n",
    "print(t1*broadcasted_3)\n",
    "print(t1.mul(broadcasted_3))"
   ]
  },
  {
   "cell_type": "markdown",
   "metadata": {},
   "source": [
    "# Torchvision Datasets"
   ]
  },
  {
   "cell_type": "code",
   "execution_count": 22,
   "metadata": {},
   "outputs": [],
   "source": [
    "train_set = torchvision.datasets.FashionMNIST(download=True,root='./Data/FashionMNIST',\n",
    "                                              transform=transforms.Compose([transforms.ToTensor()]))\n",
    "\n",
    "train_loader = torch.utils.data.DataLoader(train_set,batch_size=32)"
   ]
  },
  {
   "cell_type": "code",
   "execution_count": 23,
   "metadata": {},
   "outputs": [
    {
     "data": {
      "text/plain": [
       "60000"
      ]
     },
     "execution_count": 23,
     "metadata": {},
     "output_type": "execute_result"
    }
   ],
   "source": [
    "len(train_set.targets)"
   ]
  },
  {
   "cell_type": "code",
   "execution_count": 24,
   "metadata": {},
   "outputs": [
    {
     "data": {
      "text/plain": [
       "tensor([6000, 6000, 6000, 6000, 6000, 6000, 6000, 6000, 6000, 6000])"
      ]
     },
     "execution_count": 24,
     "metadata": {},
     "output_type": "execute_result"
    }
   ],
   "source": [
    "train_set.targets.bincount()"
   ]
  },
  {
   "cell_type": "code",
   "execution_count": 25,
   "metadata": {},
   "outputs": [
    {
     "name": "stdout",
     "output_type": "stream",
     "text": [
      "<class 'tuple'>\n",
      "2\n",
      "torch.Size([1, 28, 28])\n"
     ]
    }
   ],
   "source": [
    "sample = next(iter(train_set))\n",
    "print(type(sample))\n",
    "print(len(sample))\n",
    "# first entry sample[0] are the pixels and second is the label\n",
    "pixels,label = sample\n",
    "print(pixels.shape)"
   ]
  },
  {
   "cell_type": "code",
   "execution_count": 26,
   "metadata": {},
   "outputs": [
    {
     "data": {
      "text/plain": [
       "<matplotlib.image.AxesImage at 0x7fb27f3bf090>"
      ]
     },
     "execution_count": 26,
     "metadata": {},
     "output_type": "execute_result"
    },
    {
     "data": {
      "image/png": "[encoded data removed]",
      "text/plain": [
       "<Figure size 432x288 with 1 Axes>"
      ]
     },
     "metadata": {
      "needs_background": "light"
     },
     "output_type": "display_data"
    }
   ],
   "source": [
    "plt.imshow(pixels.reshape(28,28),cmap='gray')\n",
    "# plt.imshow(pixels.squeeze())"
   ]
  },
  {
   "cell_type": "code",
   "execution_count": 27,
   "metadata": {},
   "outputs": [
    {
     "name": "stdout",
     "output_type": "stream",
     "text": [
      "2\n",
      "<class 'list'>\n"
     ]
    }
   ],
   "source": [
    "batch = next(iter(train_loader))\n",
    "print(len(batch))\n",
    "print(type(batch))"
   ]
  },
  {
   "cell_type": "code",
   "execution_count": 28,
   "metadata": {},
   "outputs": [
    {
     "name": "stdout",
     "output_type": "stream",
     "text": [
      "32 32\n",
      "<class 'torch.Tensor'>\n",
      "torch.Size([32, 1, 28, 28])\n"
     ]
    }
   ],
   "source": [
    "images,labels = batch\n",
    "print(len(images),len(labels))\n",
    "print(type(images))\n",
    "print(images.shape)"
   ]
  },
  {
   "cell_type": "code",
   "execution_count": 29,
   "metadata": {},
   "outputs": [
    {
     "name": "stdout",
     "output_type": "stream",
     "text": [
      "tensor([9, 0, 0, 3, 0, 2, 7, 2, 5, 5, 0, 9, 5, 5, 7, 9, 1, 0, 6, 4, 3, 1, 4, 8,\n",
      "        4, 3, 0, 2, 4, 4, 5, 3])\n"
     ]
    },
    {
     "data": {
      "image/png": "[encoded data removed]",
      "text/plain": [
       "<Figure size 1080x864 with 1 Axes>"
      ]
     },
     "metadata": {
      "needs_background": "light"
     },
     "output_type": "display_data"
    }
   ],
   "source": [
    "grid = torchvision.utils.make_grid(images,nrow=10) #nrow is number of elements in a single row\n",
    "plt.figure(figsize=(15,12))\n",
    "plt.imshow(np.transpose(grid,(1,2,0))) # transpose to (h,w,c) instead of (c,h,w)\n",
    "print(labels)"
   ]
  },
  {
   "cell_type": "markdown",
   "metadata": {},
   "source": [
    "# CNN Architecture"
   ]
  },
  {
   "cell_type": "code",
   "execution_count": 30,
   "metadata": {},
   "outputs": [],
   "source": [
    "class Network(nn.Module):\n",
    "    def __init__(self):\n",
    "        super(Network,self).__init__()\n",
    "        self.conv_1 = nn.Conv2d(in_channels=1,out_channels=6,kernel_size=(5,5),bias=True)\n",
    "        # for single grayscale image use 6 different kernls of size (5,5) to produce 6 diff feature maps \n",
    "        \n",
    "        self.conv_2 = nn.Conv2d(in_channels=6,out_channels=12,kernel_size=(3,3))\n",
    "        # 6 already feat maps, use 12 different kernal filters of size (3,3) to get TOTAL of 12 new feat\n",
    "        \n",
    "        self.dense_1 = nn.Linear(in_features=12*4*4,out_features=128) # WHYY (12*4*4)\n",
    "        # Flatten the output of conv_2d in 12*4*4\n",
    "        \n",
    "        self.fc_2 = nn.Linear(in_features=128,out_features=64)\n",
    "        # Fully Connected = fc_2 = Dense Layer = dense_2\n",
    "        \n",
    "        self.out = nn.Linear(in_features=64,out_features=10)\n",
    "        # output layer. Output number of neurons = num of classes for classification & 1 for regression\n",
    "        \n",
    "    \n",
    "    def forward(self,t):\n",
    "        '''\n",
    "        implement a forward pass on a Tensor 't' of rank 'R'\n",
    "        '''\n",
    "        # input  layer 1 though it is nevr needed\n",
    "        t = t\n",
    "        \n",
    "        # second layer. Layer is a mix of functions that has weights \n",
    "        t = self.conv_1(t) # works by calling __call__() method inside class\n",
    "        t = F.relu(input=t,) # it is not a leyer but Function as layers have weights\n",
    "        t = F.max_pool2d(t,kernel_size=(3,3),stride=2) # max pool\n",
    "        \n",
    "        # third layer\n",
    "        t = self.conv_2(t) # works by calling __call__() method inside class\n",
    "        t = F.relu(input=t,) # it is not a leyer but Function as layers have weights\n",
    "        t = F.max_pool2d(t,kernel_size=(3,3),stride=2) # max pool\n",
    "        \n",
    "        # fourth layer\n",
    "        t = t.reshape(-1,12*4*4) \n",
    "        # due to Conv and pooling operations, our image has been reduced from (1,28,28) to (4,4)\n",
    "        t = self.dense_1(t)\n",
    "        t = F.relu(t)\n",
    "        \n",
    "        # Fifth layer\n",
    "        t = self.fc_2(t)\n",
    "        t = F.relu(t)\n",
    "        \n",
    "        # output\n",
    "        t = self.out(t)\n",
    "        # t = F.softmax(t,dim=1) # why is dim=1?\n",
    "        # commented because loss function used will be cross_entropy which has softmax behind the scenes\n",
    "        \n",
    "        \n",
    "        return t"
   ]
  },
  {
   "cell_type": "code",
   "execution_count": 31,
   "metadata": {},
   "outputs": [],
   "source": [
    "network = Network() # instantiate object of Nwtwork"
   ]
  },
  {
   "cell_type": "code",
   "execution_count": 32,
   "metadata": {},
   "outputs": [
    {
     "data": {
      "text/plain": [
       "<torch.autograd.grad_mode.set_grad_enabled at 0x7fb27bd7e550>"
      ]
     },
     "execution_count": 32,
     "metadata": {},
     "output_type": "execute_result"
    }
   ],
   "source": [
    "torch.set_grad_enabled(False) # stop making computational graphs"
   ]
  },
  {
   "cell_type": "markdown",
   "metadata": {},
   "source": [
    "### Input should be always `(BATCH,CHANNELS,HEIGHT,WIDTH)` for Convolution Networks"
   ]
  },
  {
   "cell_type": "code",
   "execution_count": 33,
   "metadata": {},
   "outputs": [
    {
     "data": {
      "text/plain": [
       "torch.Size([1, 28, 28])"
      ]
     },
     "execution_count": 33,
     "metadata": {},
     "output_type": "execute_result"
    }
   ],
   "source": [
    "sample = next(iter(train_set))\n",
    "image, label = sample\n",
    "image.shape # add a new index to the the image to convert it into a batch of 1"
   ]
  },
  {
   "cell_type": "code",
   "execution_count": 34,
   "metadata": {},
   "outputs": [
    {
     "name": "stdout",
     "output_type": "stream",
     "text": [
      "torch.Size([1, 1, 28, 28])\n",
      "torch.Size([1, 1, 28, 28])\n"
     ]
    }
   ],
   "source": [
    "batch_image = image.reshape((1,1,28,28))\n",
    "print(batch_image.shape)\n",
    "\n",
    "# or by using \n",
    "\n",
    "batch_image = image.unsqueeze(dim=0)\n",
    "print(batch_image.shape)"
   ]
  },
  {
   "cell_type": "code",
   "execution_count": 35,
   "metadata": {},
   "outputs": [
    {
     "data": {
      "text/plain": [
       "tensor([[ 0.0897,  0.0300,  0.0606,  0.0675, -0.0154,  0.0011,  0.0774, -0.0797,\n",
       "          0.0684, -0.0604]])"
      ]
     },
     "execution_count": 35,
     "metadata": {},
     "output_type": "execute_result"
    }
   ],
   "source": [
    "y_pred = network(batch_image) \n",
    "y_pred # y_pred is NOT the  probabilities for each label. These are final output Tensor because\n",
    "# we have not used softmax"
   ]
  },
  {
   "cell_type": "code",
   "execution_count": 36,
   "metadata": {},
   "outputs": [
    {
     "data": {
      "text/plain": [
       "tensor([[0.1066, 0.1004, 0.1036, 0.1043, 0.0960, 0.0976, 0.1053, 0.0900, 0.1044,\n",
       "         0.0918]])"
      ]
     },
     "execution_count": 36,
     "metadata": {},
     "output_type": "execute_result"
    }
   ],
   "source": [
    "F.softmax(y_pred,dim=1) # these are the probabilities for each class"
   ]
  },
  {
   "cell_type": "code",
   "execution_count": 37,
   "metadata": {},
   "outputs": [
    {
     "data": {
      "text/plain": [
       "torch.Size([1, 10])"
      ]
     },
     "execution_count": 37,
     "metadata": {},
     "output_type": "execute_result"
    }
   ],
   "source": [
    "y_pred.shape # shape is (1,10) means 1 image and 10 predictions"
   ]
  },
  {
   "cell_type": "code",
   "execution_count": 38,
   "metadata": {},
   "outputs": [
    {
     "data": {
      "text/plain": [
       "tensor([0])"
      ]
     },
     "execution_count": 38,
     "metadata": {},
     "output_type": "execute_result"
    }
   ],
   "source": [
    "y_pred.argmax(dim=1) # get the index where value is maximum"
   ]
  },
  {
   "cell_type": "markdown",
   "metadata": {},
   "source": [
    "# Load Batch"
   ]
  },
  {
   "cell_type": "code",
   "execution_count": 39,
   "metadata": {},
   "outputs": [],
   "source": [
    "train_set = torchvision.datasets.FashionMNIST(download=True,root='./Data/FashionMNIST',\n",
    "                                              transform=transforms.Compose([transforms.ToTensor()]))\n",
    "\n",
    "train_loader = torch.utils.data.DataLoader(train_set,batch_size=32) "
   ]
  },
  {
   "cell_type": "code",
   "execution_count": 40,
   "metadata": {},
   "outputs": [],
   "source": [
    "batch = next(iter(train_loader)) # make a new batch from DataLoader\n",
    "images,labels = batch # get images and labels from batch"
   ]
  },
  {
   "cell_type": "code",
   "execution_count": 41,
   "metadata": {},
   "outputs": [
    {
     "name": "stdout",
     "output_type": "stream",
     "text": [
      "32\n",
      "torch.Size([32, 1, 28, 28])\n"
     ]
    }
   ],
   "source": [
    "print(len(labels)) # 32 labels for 32 images\n",
    "print(images.shape) # 32 grayscale images of size (28,28)"
   ]
  },
  {
   "cell_type": "code",
   "execution_count": 42,
   "metadata": {},
   "outputs": [
    {
     "data": {
      "text/plain": [
       "torch.Size([32, 10])"
      ]
     },
     "execution_count": 42,
     "metadata": {},
     "output_type": "execute_result"
    }
   ],
   "source": [
    "network = Network() # weights are random everytime you initialize\n",
    "pred = network(images)\n",
    "pred.shape # 10 labels for each of 32 images"
   ]
  },
  {
   "cell_type": "code",
   "execution_count": 44,
   "metadata": {},
   "outputs": [
    {
     "data": {
      "text/plain": [
       "tensor([3, 3, 0, 3, 3, 3, 3, 0, 0, 3, 3, 3, 0, 0, 3, 3, 0, 3, 0, 3, 3, 3, 3, 0,\n",
       "        0, 3, 3, 3, 0, 0, 3, 0])"
      ]
     },
     "execution_count": 44,
     "metadata": {},
     "output_type": "execute_result"
    }
   ],
   "source": [
    "pred.argmax(dim=1)"
   ]
  },
  {
   "cell_type": "code",
   "execution_count": 45,
   "metadata": {},
   "outputs": [
    {
     "data": {
      "text/plain": [
       "tensor([9, 0, 0, 3, 0, 2, 7, 2, 5, 5, 0, 9, 5, 5, 7, 9, 1, 0, 6, 4, 3, 1, 4, 8,\n",
       "        4, 3, 0, 2, 4, 4, 5, 3])"
      ]
     },
     "execution_count": 45,
     "metadata": {},
     "output_type": "execute_result"
    }
   ],
   "source": [
    "labels"
   ]
  },
  {
   "cell_type": "code",
   "execution_count": 46,
   "metadata": {},
   "outputs": [
    {
     "data": {
      "text/plain": [
       "tensor([False, False,  True,  True, False, False, False, False, False, False,\n",
       "        False, False, False, False, False, False, False, False, False, False,\n",
       "         True, False, False, False, False,  True, False, False, False, False,\n",
       "        False, False])"
      ]
     },
     "execution_count": 46,
     "metadata": {},
     "output_type": "execute_result"
    }
   ],
   "source": [
    "pred.argmax(dim=1).eq(labels) # element wise operation. Return True if equal else return False"
   ]
  },
  {
   "cell_type": "code",
   "execution_count": 54,
   "metadata": {},
   "outputs": [],
   "source": [
    "def get_correct_pred(pred,labels,percent=False):\n",
    "    num = pred.argmax(dim=1).eq(labels).sum().item()\n",
    "    if percent:\n",
    "        return (num/len(labels))*100 # 4 out of 32 correct predictions\n",
    "    else:\n",
    "        return num"
   ]
  },
  {
   "cell_type": "code",
   "execution_count": 56,
   "metadata": {},
   "outputs": [
    {
     "data": {
      "text/plain": [
       "12.5"
      ]
     },
     "execution_count": 56,
     "metadata": {},
     "output_type": "execute_result"
    }
   ],
   "source": [
    "print(f'{get_correct_pred(pred,labels,True)}% of labels are predicted correctly"
   ]
  },
  {
   "cell_type": "code",
   "execution_count": 49,
   "metadata": {},
   "outputs": [
    {
     "data": {
      "text/plain": [
       "32"
      ]
     },
     "execution_count": 49,
     "metadata": {},
     "output_type": "execute_result"
    }
   ],
   "source": [
    "len(labels)"
   ]
  },
  {
   "cell_type": "code",
   "execution_count": null,
   "metadata": {},
   "outputs": [],
   "source": []
  },
  {
   "cell_type": "code",
   "execution_count": null,
   "metadata": {},
   "outputs": [],
   "source": []
  },
  {
   "cell_type": "code",
   "execution_count": null,
   "metadata": {},
   "outputs": [],
   "source": []
  },
  {
   "cell_type": "markdown",
   "metadata": {},
   "source": [
    "# First Feed Forward DNN\n",
    "Tutorials Point"
   ]
  },
  {
   "cell_type": "code",
   "execution_count": null,
   "metadata": {},
   "outputs": [],
   "source": [
    "IN,OUT,HID= 10,5,1\n",
    "BATCH_SIZE = 32"
   ]
  },
  {
   "cell_type": "code",
   "execution_count": null,
   "metadata": {},
   "outputs": [],
   "source": [
    "X_train = torch.randn(BATCH_SIZE,IN)\n",
    "y_train = torch.tensor([[1.0], [0.0], [0.0], [1.0], [1.0], [1.0], [0.0], [0.0], [1.0], [1.0]])"
   ]
  },
  {
   "cell_type": "code",
   "execution_count": null,
   "metadata": {},
   "outputs": [],
   "source": [
    "model = nn.Sequential(nn.Linear(IN,HID), nn.ReLU(),\n",
    "                      nn.Linear(HID,HID),nn.ReLU(),\n",
    "                      nn.Linear(HID,OUT),nn.Sigmoid())"
   ]
  },
  {
   "cell_type": "code",
   "execution_count": null,
   "metadata": {},
   "outputs": [],
   "source": [
    "loss_fun = nn.MSELoss()\n",
    "optimizer = torch.optim.SGD(model.parameters(),lr=0.001)"
   ]
  },
  {
   "cell_type": "code",
   "execution_count": null,
   "metadata": {},
   "outputs": [],
   "source": [
    "for epoch in range(5):\n",
    "    y_pred = model(X_train)\n",
    "    \n",
    "    loss = loss_fun(y_pred,y_train)\n",
    "    \n",
    "    print(f\"At the endo of epoch: {epoch}, loss is:{loss.item()}\")\n",
    "     \n",
    "    optimizer.zero_grad()  # set gradients to zero and update weights\n",
    "    \n",
    "    loss_fun.backward() # back propagation\n",
    "    \n",
    "    optimizer.step() # update the parameters for the next step\n",
    "    \n",
    "    "
   ]
  },
  {
   "cell_type": "code",
   "execution_count": null,
   "metadata": {},
   "outputs": [],
   "source": [
    "! git commit -m \"batch loader\" \"PyTorch.ipynb\""
   ]
  }
 ],
 "metadata": {
  "kernelspec": {
   "display_name": "Python 3",
   "language": "python",
   "name": "python3"
  },
  "language_info": {
   "codemirror_mode": {
    "name": "ipython",
    "version": 3
   },
   "file_extension": ".py",
   "mimetype": "text/x-python",
   "name": "python",
   "nbconvert_exporter": "python",
   "pygments_lexer": "ipython3",
   "version": "3.7.4"
  }
 },
 "nbformat": 4,
 "nbformat_minor": 4
}
